{
 "cells": [
  {
   "cell_type": "code",
   "execution_count": 6,
   "metadata": {},
   "outputs": [
    {
     "name": "stdout",
     "output_type": "stream",
     "text": [
      "   group  no  length  width  stalk\n",
      "0    HSE   1      83     87     74\n",
      "1    HSE   2     130    153    105\n",
      "2    HSE   3     140    148    135\n",
      "3    HSE   4     102    110     94\n",
      "4    HSE   5     190    151     89\n",
      "..   ...  ..     ...    ...    ...\n",
      "65   HYB  31      42     60     41\n",
      "66   HYB  32     106    146     98\n",
      "67   HYB  33     109    144    107\n",
      "68   HYB  34      96     89    115\n",
      "69   HYB  35      78     88     64\n",
      "\n",
      "[70 rows x 5 columns]\n"
     ]
    },
    {
     "data": {
      "text/plain": [
       "(70, 5)"
      ]
     },
     "execution_count": 6,
     "metadata": {},
     "output_type": "execute_result"
    }
   ],
   "source": [
    "import numpy as np\n",
    "import pandas as pd\n",
    "import matplotlib as mpl\n",
    "import matplotlib.pyplot as plt\n",
    "\n",
    "#There is a set of data of maple leaves collected by two goups of students.\n",
    "# HYB: hydrobiology group, got random sample of maple leaves from the supervisor\n",
    "# HSE: hydroscience group, had the freedom to collect an own maple leaf\n",
    "\n",
    "#To import data from .csv file\n",
    "sample_data=pd.read_csv('MapleLeaves.csv')\n",
    "print(sample_data)\n",
    "\n",
    "#To know the size of the data\n",
    "sample_data.shape\n"
   ]
  },
  {
   "cell_type": "markdown",
   "metadata": {},
   "source": []
  },
  {
   "cell_type": "code",
   "execution_count": 5,
   "metadata": {},
   "outputs": [
    {
     "name": "stdout",
     "output_type": "stream",
     "text": [
      "<class 'pandas.core.frame.DataFrame'>\n",
      "RangeIndex: 70 entries, 0 to 69\n",
      "Data columns (total 5 columns):\n",
      " #   Column  Non-Null Count  Dtype \n",
      "---  ------  --------------  ----- \n",
      " 0   group   70 non-null     object\n",
      " 1   no      70 non-null     int64 \n",
      " 2   length  70 non-null     int64 \n",
      " 3   width   70 non-null     int64 \n",
      " 4   stalk   70 non-null     int64 \n",
      "dtypes: int64(4), object(1)\n",
      "memory usage: 2.5+ KB\n"
     ]
    }
   ],
   "source": [
    "sample_data.info()"
   ]
  },
  {
   "cell_type": "code",
   "execution_count": 7,
   "metadata": {},
   "outputs": [
    {
     "data": {
      "text/html": [
       "<div>\n",
       "<style scoped>\n",
       "    .dataframe tbody tr th:only-of-type {\n",
       "        vertical-align: middle;\n",
       "    }\n",
       "\n",
       "    .dataframe tbody tr th {\n",
       "        vertical-align: top;\n",
       "    }\n",
       "\n",
       "    .dataframe thead th {\n",
       "        text-align: right;\n",
       "    }\n",
       "</style>\n",
       "<table border=\"1\" class=\"dataframe\">\n",
       "  <thead>\n",
       "    <tr style=\"text-align: right;\">\n",
       "      <th></th>\n",
       "      <th>no</th>\n",
       "      <th>length</th>\n",
       "      <th>width</th>\n",
       "      <th>stalk</th>\n",
       "    </tr>\n",
       "  </thead>\n",
       "  <tbody>\n",
       "    <tr>\n",
       "      <th>count</th>\n",
       "      <td>70.000000</td>\n",
       "      <td>70.000000</td>\n",
       "      <td>70.000000</td>\n",
       "      <td>70.000000</td>\n",
       "    </tr>\n",
       "    <tr>\n",
       "      <th>mean</th>\n",
       "      <td>18.000000</td>\n",
       "      <td>109.357143</td>\n",
       "      <td>124.957143</td>\n",
       "      <td>89.714286</td>\n",
       "    </tr>\n",
       "    <tr>\n",
       "      <th>std</th>\n",
       "      <td>10.172426</td>\n",
       "      <td>46.167633</td>\n",
       "      <td>29.755738</td>\n",
       "      <td>28.261790</td>\n",
       "    </tr>\n",
       "    <tr>\n",
       "      <th>min</th>\n",
       "      <td>1.000000</td>\n",
       "      <td>42.000000</td>\n",
       "      <td>60.000000</td>\n",
       "      <td>31.000000</td>\n",
       "    </tr>\n",
       "    <tr>\n",
       "      <th>25%</th>\n",
       "      <td>9.250000</td>\n",
       "      <td>79.500000</td>\n",
       "      <td>101.500000</td>\n",
       "      <td>72.000000</td>\n",
       "    </tr>\n",
       "    <tr>\n",
       "      <th>50%</th>\n",
       "      <td>18.000000</td>\n",
       "      <td>96.000000</td>\n",
       "      <td>125.500000</td>\n",
       "      <td>89.500000</td>\n",
       "    </tr>\n",
       "    <tr>\n",
       "      <th>75%</th>\n",
       "      <td>26.750000</td>\n",
       "      <td>124.500000</td>\n",
       "      <td>148.000000</td>\n",
       "      <td>107.000000</td>\n",
       "    </tr>\n",
       "    <tr>\n",
       "      <th>max</th>\n",
       "      <td>35.000000</td>\n",
       "      <td>250.000000</td>\n",
       "      <td>195.000000</td>\n",
       "      <td>175.000000</td>\n",
       "    </tr>\n",
       "  </tbody>\n",
       "</table>\n",
       "</div>"
      ],
      "text/plain": [
       "              no      length       width       stalk\n",
       "count  70.000000   70.000000   70.000000   70.000000\n",
       "mean   18.000000  109.357143  124.957143   89.714286\n",
       "std    10.172426   46.167633   29.755738   28.261790\n",
       "min     1.000000   42.000000   60.000000   31.000000\n",
       "25%     9.250000   79.500000  101.500000   72.000000\n",
       "50%    18.000000   96.000000  125.500000   89.500000\n",
       "75%    26.750000  124.500000  148.000000  107.000000\n",
       "max    35.000000  250.000000  195.000000  175.000000"
      ]
     },
     "execution_count": 7,
     "metadata": {},
     "output_type": "execute_result"
    }
   ],
   "source": [
    "sample_data.describe()"
   ]
  },
  {
   "cell_type": "markdown",
   "metadata": {},
   "source": [
    "# HSE data"
   ]
  },
  {
   "cell_type": "code",
   "execution_count": 11,
   "metadata": {},
   "outputs": [
    {
     "name": "stdout",
     "output_type": "stream",
     "text": [
      "   group  no  length  width  stalk\n",
      "0    HSE   1      83     87     74\n",
      "1    HSE   2     130    153    105\n",
      "2    HSE   3     140    148    135\n",
      "3    HSE   4     102    110     94\n",
      "4    HSE   5     190    151     89\n",
      "5    HSE   6     225    139     91\n",
      "6    HSE   7     195    165     76\n",
      "7    HSE   8     216    135    113\n",
      "8    HSE   9     250    195    119\n",
      "9    HSE  10     152    168    158\n",
      "10   HSE  11     100     97     52\n",
      "11   HSE  12     170    155     90\n",
      "12   HSE  13     126    160    120\n",
      "13   HSE  14     100    125    118\n",
      "14   HSE  15     210    166     88\n",
      "15   HSE  16     142    155    132\n",
      "16   HSE  17     102    105     70\n",
      "17   HSE  18     162    175    135\n",
      "18   HSE  19     102    125     83\n",
      "19   HSE  20     165    150     98\n",
      "20   HSE  21      92    154     99\n",
      "21   HSE  22      95    131     82\n",
      "22   HSE  23      99    119     60\n",
      "23   HSE  24      98    125     80\n",
      "24   HSE  25      89    103     71\n",
      "25   HSE  26     130    165    175\n",
      "26   HSE  27      95    121    106\n",
      "27   HSE  28     120    180    102\n",
      "28   HSE  29      85    150    109\n",
      "29   HSE  30     120    142     94\n",
      "30   HSE  31     140    148    135\n",
      "31   HSE  32      93    134     92\n",
      "32   HSE  33     185     93    101\n",
      "33   HSE  34      96    121    106\n",
      "34   HSE  35     225    116    119\n"
     ]
    }
   ],
   "source": [
    "#split the table from into HSE and HYB\n",
    "hse= sample_data[sample_data.group == 'HSE']\n",
    "print(hse)"
   ]
  },
  {
   "cell_type": "markdown",
   "metadata": {},
   "source": [
    "# HYB data"
   ]
  },
  {
   "cell_type": "code",
   "execution_count": 12,
   "metadata": {},
   "outputs": [
    {
     "name": "stdout",
     "output_type": "stream",
     "text": [
      "   group  no  length  width  stalk\n",
      "35   HYB   1      51     67     36\n",
      "36   HYB   2      88    125    103\n",
      "37   HYB   3      78    112     76\n",
      "38   HYB   4      97    129     61\n",
      "39   HYB   5      81    118    107\n",
      "40   HYB   6      72    101     65\n",
      "41   HYB   7     120    159    107\n",
      "42   HYB   8      79    136     73\n",
      "43   HYB   9      96    135     94\n",
      "44   HYB  10      90    130    117\n",
      "45   HYB  11      76     89     84\n",
      "46   HYB  12      98    144     99\n",
      "47   HYB  13      88    114     79\n",
      "48   HYB  14      88    124    112\n",
      "49   HYB  15      92    129     82\n",
      "50   HYB  16     105    151    110\n",
      "51   HYB  17      91    135     77\n",
      "52   HYB  18      43     60     31\n",
      "53   HYB  19      71     99     63\n",
      "54   HYB  20      57     96     60\n",
      "55   HYB  21      70     95     72\n",
      "56   HYB  22      97    126     80\n",
      "57   HYB  23      96    127     89\n",
      "58   HYB  24      72     85     46\n",
      "59   HYB  25      73    118     79\n",
      "60   HYB  26      74    104     72\n",
      "61   HYB  27      77     96     63\n",
      "62   HYB  28      68    100     71\n",
      "63   HYB  29      65     80     34\n",
      "64   HYB  30      47     70     42\n",
      "65   HYB  31      42     60     41\n",
      "66   HYB  32     106    146     98\n",
      "67   HYB  33     109    144    107\n",
      "68   HYB  34      96     89    115\n",
      "69   HYB  35      78     88     64\n"
     ]
    }
   ],
   "source": [
    "hyb=sample_data[sample_data.group == 'HYB']\n",
    "print(hyb)"
   ]
  },
  {
   "cell_type": "markdown",
   "metadata": {},
   "source": [
    "# Box plot"
   ]
  },
  {
   "cell_type": "code",
   "execution_count": 46,
   "metadata": {},
   "outputs": [
    {
     "data": {
      "image/png": "[encoded data removed]",
      "text/plain": [
       "<Figure size 432x288 with 1 Axes>"
      ]
     },
     "metadata": {
      "needs_background": "light"
     },
     "output_type": "display_data"
    }
   ],
   "source": [
    "#compare the leaf width of both group by boxplot\n",
    "labels=['HSE','HYB']\n",
    "bp=plt.boxplot([hse.width,hyb.width], labels=labels, patch_artist=True, medianprops={'linewidth':2})\n",
    "## change outline color, fill color and linewidth of the boxes\n",
    "for box in bp ['boxes']:\n",
    "    # change outline color\n",
    "    box.set(color='#7570b3', linewidth= 3)\n",
    "    # change fill color\n",
    "    box.set(facecolor = '#e0e0e0e0' )  \n",
    "plt.title('Boxplot Comparing the Width')\n",
    "plt.ylabel('Width in mm')\n",
    "plt.show()\n",
    "\n"
   ]
  },
  {
   "cell_type": "markdown",
   "metadata": {},
   "source": [
    "# Line Graph"
   ]
  },
  {
   "cell_type": "code",
   "execution_count": 171,
   "metadata": {},
   "outputs": [
    {
     "data": {
      "image/png": "[encoded data removed]",
      "text/plain": [
       "<Figure size 432x288 with 1 Axes>"
      ]
     },
     "metadata": {
      "needs_background": "light"
     },
     "output_type": "display_data"
    },
    {
     "data": {
      "image/png": "[encoded data removed]",
      "text/plain": [
       "<Figure size 432x288 with 1 Axes>"
      ]
     },
     "metadata": {
      "needs_background": "light"
     },
     "output_type": "display_data"
    },
    {
     "data": {
      "text/plain": [
       "<Figure size 432x288 with 0 Axes>"
      ]
     },
     "metadata": {},
     "output_type": "display_data"
    }
   ],
   "source": [
    "#comparing length and width of the two group's data by line graph\n",
    "plt.figure()\n",
    "\n",
    "#length\n",
    "plt.subplot(121)\n",
    "\n",
    "plt.plot(hse.no,hse.length, 'yo')\n",
    "plt.plot(hyb.no,hyb.length, 'b^')\n",
    "plt.title('Length Comparsion')\n",
    "plt.xlabel('No of Leaves')\n",
    "plt.ylabel('Length in mm')\n",
    "plt.show()\n",
    "#width\n",
    "plt.subplot(122)\n",
    "plt.plot(hse.no,hse.width,'r.-' )\n",
    "plt.plot(hyb.no, hyb.width, 'g--')\n",
    "plt.xlabel('No of Leaves')\n",
    "plt.ylabel('Width in mm')\n",
    "\n",
    "plt.title('Width Comparsion')\n",
    "\n",
    "\n",
    "plt.show()\n",
    "plt.savefig('Comparison of Leaves', dpi=300 )\n",
    "\n",
    "\n"
   ]
  },
  {
   "cell_type": "code",
   "execution_count": null,
   "metadata": {},
   "outputs": [],
   "source": []
  },
  {
   "cell_type": "markdown",
   "metadata": {},
   "source": [
    "# Histogram\n",
    "\n"
   ]
  },
  {
   "cell_type": "code",
   "execution_count": 162,
   "metadata": {},
   "outputs": [
    {
     "data": {
      "image/png": "[encoded data removed]",
      "text/plain": [
       "<Figure size 432x288 with 1 Axes>"
      ]
     },
     "metadata": {
      "needs_background": "light"
     },
     "output_type": "display_data"
    }
   ],
   "source": [
    "#plotting Histogram\n",
    "bins=[0,20,40,60,80,100,120,140,160,180]\n",
    "plt.ylabel('No. of Leaves in the distribution')\n",
    "plt.xlabel('Stalk size')\n",
    "plt.hist(hse.stalk, bins=bins, color='#bc2fe2')\n",
    "plt.grid(True)\n",
    "plt.show()"
   ]
  },
  {
   "cell_type": "markdown",
   "metadata": {},
   "source": [
    "# Piechart\n"
   ]
  },
  {
   "cell_type": "code",
   "execution_count": 175,
   "metadata": {},
   "outputs": [
    {
     "data": {
      "image/png": "[encoded data removed]",
      "text/plain": [
       "<Figure size 432x288 with 1 Axes>"
      ]
     },
     "metadata": {},
     "output_type": "display_data"
    }
   ],
   "source": [
    "#the parcentages of length,width and stalk in a full leaf\n",
    "\n",
    "length=sample_data.length.iloc[2]\n",
    "width=sample_data.width.iloc[2]\n",
    "stalk=sample_data.stalk.iloc[2]\n",
    "labels= ['Length','Width','Stalk']\n",
    "colors=['#abcdef', '#1abcd3','#e0e0e0']\n",
    "explode=(0.1,0,0,0)\n",
    "\n",
    "plt.pie([length, width, stalk], labels=labels,colors=colors,autopct='%.2f %%',shadow=True, startangle=140)\n",
    "plt.title('Percentage of portion in a leaf')\n",
    "plt.show()"
   ]
  },
  {
   "cell_type": "code",
   "execution_count": null,
   "metadata": {},
   "outputs": [],
   "source": []
  }
 ],
 "metadata": {
  "kernelspec": {
   "display_name": "Python 3",
   "language": "python",
   "name": "python3"
  },
  "language_info": {
   "codemirror_mode": {
    "name": "ipython",
    "version": 3
   },
   "file_extension": ".py",
   "mimetype": "text/x-python",
   "name": "python",
   "nbconvert_exporter": "python",
   "pygments_lexer": "ipython3",
   "version": "3.7.6"
  }
 },
 "nbformat": 4,
 "nbformat_minor": 4
}
